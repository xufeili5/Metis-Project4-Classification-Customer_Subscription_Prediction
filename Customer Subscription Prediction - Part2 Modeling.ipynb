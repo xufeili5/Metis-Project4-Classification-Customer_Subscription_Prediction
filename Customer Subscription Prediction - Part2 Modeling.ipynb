{
 "cells": [
  {
   "cell_type": "code",
   "execution_count": 1,
   "id": "proper-joshua",
   "metadata": {},
   "outputs": [],
   "source": [
    "import numpy as np\n",
    "import pandas as pd\n",
    "import matplotlib.pyplot as plt\n",
    "import seaborn as sns\n",
    "\n",
    "%matplotlib inline\n",
    "sns.set()\n",
    "\n",
    "import warnings\n",
    "warnings.filterwarnings('ignore')"
   ]
  },
  {
   "cell_type": "code",
   "execution_count": 2,
   "id": "medical-planner",
   "metadata": {},
   "outputs": [],
   "source": [
    "#read data to dataframe\n",
    "df_train = pd.read_csv(\"train.csv\",sep = \";\")\n",
    "df_test = pd.read_csv(\"test.csv\", sep = \";\")\n",
    "\n",
    "df_train['subscribe'] = df_train['y'].apply(lambda x: '0' if x == 'no' else '1')\n",
    "df_test['subscribe'] = df_test['y'].apply(lambda x: '0' if x == 'no' else '1')\n",
    "df_train['subscribe'] = df_train['subscribe'].astype('int')\n",
    "df_test['subscribe'] = df_test['subscribe'].astype('int')"
   ]
  },
  {
   "cell_type": "markdown",
   "id": "experimental-happiness",
   "metadata": {},
   "source": [
    "# Part 2: Modeling"
   ]
  },
  {
   "cell_type": "code",
   "execution_count": 3,
   "id": "quarterly-dairy",
   "metadata": {},
   "outputs": [],
   "source": [
    "#import libraires\n",
    "from sklearn.preprocessing import StandardScaler\n",
    "from sklearn.model_selection import train_test_split, GridSearchCV\n",
    "\n",
    "from sklearn.linear_model import LogisticRegression\n",
    "from sklearn.neighbors import KNeighborsClassifier\n",
    "from sklearn.ensemble import RandomForestClassifier\n",
    "import xgboost as xgb\n",
    "from sklearn.naive_bayes import GaussianNB\n",
    "from sklearn.svm import SVC\n",
    "\n",
    "\n",
    "from sklearn.metrics import recall_score, fbeta_score, make_scorer, roc_auc_score, roc_curve\n",
    "from sklearn.metrics import log_loss, confusion_matrix\n",
    "from sklearn import metrics"
   ]
  },
  {
   "cell_type": "code",
   "execution_count": 4,
   "id": "binary-deviation",
   "metadata": {},
   "outputs": [],
   "source": [
    "#train-test-split for sample data  \n",
    "X = df_train.drop(['y','subscribe', 'duration'], axis=1)\n",
    "y = df_train['subscribe']\n",
    "\n",
    "X_test = df_test.drop(['y','subscribe', 'duration'], axis=1)\n",
    "y_test = df_test['subscribe']\n",
    "\n",
    "X_train, X_val, y_train, y_val = train_test_split(X, y, test_size = .2, random_state=101, stratify = y)"
   ]
  },
  {
   "cell_type": "markdown",
   "id": "metric-project",
   "metadata": {},
   "source": [
    "## Step 1: Finding a baseline model"
   ]
  },
  {
   "cell_type": "markdown",
   "id": "efficient-illinois",
   "metadata": {},
   "source": [
    "### (1) Resampling - Oversampling"
   ]
  },
  {
   "cell_type": "code",
   "execution_count": 5,
   "id": "regional-simpson",
   "metadata": {},
   "outputs": [],
   "source": [
    "import imblearn.over_sampling\n",
    "\n",
    "# setup for the ratio argument of RandomOverSampler initialization\n",
    "n_pos = np.sum(y_train == 1) #counting the positive case\n",
    "n_neg = np.sum(y_train == 0) #counting the negative case\n",
    "ratio = {1 : n_pos * 7, 0 : n_neg} \n",
    "\n",
    "# randomly oversample positive samples: create 7x as many   #RandomOverSampler\n",
    "ROS = imblearn.over_sampling.RandomOverSampler(sampling_strategy = ratio, random_state=42) \n",
    "X_tr_rs, y_tr_rs = ROS.fit_resample(X_train, y_train) #fit_resample"
   ]
  },
  {
   "cell_type": "markdown",
   "id": "advanced-dynamics",
   "metadata": {},
   "source": [
    "### (2) Try single numerial model first and compare (the features that can be a good classifier)\n",
    "Note: \"previous\", \"pdays\" can be a good classifier if we just want a simple model"
   ]
  },
  {
   "cell_type": "code",
   "execution_count": 6,
   "id": "french-columbus",
   "metadata": {},
   "outputs": [
    {
     "name": "stdout",
     "output_type": "stream",
     "text": [
      "balance log_loss: 0.6629575585854688 f_beta: 0.7958692767253508 ROC_AUC score: 0.5868955615029599\n",
      "campaign log_loss: 0.6553108491364852 f_beta: 0.6334838396677306 ROC_AUC score: 0.5749267589395523\n",
      "previous log_loss: 0.6512431138797472 f_beta: 0.8204357791508117 ROC_AUC score: 0.6062415587828313\n",
      "day log_loss: 0.664091347159226 f_beta: 0.7040707763153647 ROC_AUC score: 0.5275752148700364\n",
      "pdays log_loss: 0.656002696488991 f_beta: 0.7934418495220654 ROC_AUC score: 0.5971805003000665\n"
     ]
    }
   ],
   "source": [
    "#use log loss to compare the model performance. \n",
    "X_tr_rs_num = X_tr_rs.loc[:,['age','balance','day','campaign', 'pdays', 'previous']]\n",
    "X_val_num = X_val.loc[:,['age','balance','day','campaign', 'pdays', 'previous']]\n",
    "\n",
    "my_columns = ['balance', 'campaign', 'previous','day', 'pdays']\n",
    "for col in my_columns: #用一个for loop 将每一个variable 都分别fit in model\n",
    "    X_tr = X_tr_rs_num[[col]]\n",
    "    X_vl = X_val[[col]]\n",
    "    logreg_model = LogisticRegression(C = 10000) #如果用default C=1， default penalty L2, then need to standardize before fit in model. \n",
    "    logreg_model.fit(X_tr,y_tr_rs)\n",
    "    y_pred_vl = logreg_model.predict(X_vl)\n",
    "    y_prob_pred_vl = logreg_model.predict_proba(X_vl)[:,1]\n",
    "    \n",
    "    print(col,f\"log_loss: {log_loss(y_val,y_prob_pred_vl)}\", f\"f_beta: {fbeta_score(y_val, y_pred_vl,average='weighted',beta = 2)}\", (f\"ROC_AUC score: {roc_auc_score(y_val, y_prob_pred_vl)}\"))"
   ]
  },
  {
   "cell_type": "markdown",
   "id": "absent-actor",
   "metadata": {},
   "source": [
    "### (3) Baseline model - Fit a logistic regression on all of the numerical variables only"
   ]
  },
  {
   "cell_type": "code",
   "execution_count": 7,
   "id": "adolescent-version",
   "metadata": {},
   "outputs": [
    {
     "name": "stdout",
     "output_type": "stream",
     "text": [
      "log_loss: 0.6403769377300643\n",
      "F-beta: 0.7582782169110249\n",
      "ROC_AUC score: 0.650254020712276\n",
      "\n",
      "\n",
      "[[6290 1695]\n",
      " [ 589  469]]\n",
      "\n",
      "\n",
      "Index(['age', 'job', 'marital', 'education', 'default', 'balance', 'housing',\n",
      "       'loan', 'contact', 'day', 'month', 'campaign', 'pdays', 'previous',\n",
      "       'poutcome'],\n",
      "      dtype='object')\n",
      "[[ 1.44406226e-03  4.95575905e-05 -4.06718128e-03 -1.19651500e-01\n",
      "   1.30664778e-03  1.13136785e-01]]\n"
     ]
    }
   ],
   "source": [
    "#fit in with all numerical features - less loss than any single variable\n",
    "logreg_model = LogisticRegression(C = 10000)\n",
    "logreg_model.fit(X_tr_rs_num, y_tr_rs)  #all numerical only\n",
    "y_pred_val = logreg_model.predict(X_val_num)\n",
    "y_prob_pred_val = logreg_model.predict_proba(X_val_num)[:,1]\n",
    "\n",
    "print(f\"log_loss: {log_loss(y_val,y_prob_pred_val)}\")\n",
    "print(f\"F-beta: {fbeta_score(y_val,y_pred_val,average='weighted',beta = 2)}\")\n",
    "print(f\"ROC_AUC score: {roc_auc_score(y_val, y_prob_pred_val)}\")\n",
    "\n",
    "print(\"\\n\")\n",
    "print(confusion_matrix(y_val, y_pred_val))\n",
    "\n",
    "print(\"\\n\")\n",
    "print(X_train.columns)\n",
    "print(logreg_model.coef_)"
   ]
  },
  {
   "cell_type": "code",
   "execution_count": null,
   "id": "vanilla-coordination",
   "metadata": {},
   "outputs": [],
   "source": []
  },
  {
   "cell_type": "code",
   "execution_count": 8,
   "id": "functioning-thanks",
   "metadata": {},
   "outputs": [
    {
     "name": "stdout",
     "output_type": "stream",
     "text": [
      "ROC AUC validation score =  0.650254020712276\n"
     ]
    },
    {
     "data": {
      "image/png": "[encoded data removed]",
      "text/plain": [
       "<Figure size 432x288 with 1 Axes>"
      ]
     },
     "metadata": {},
     "output_type": "display_data"
    }
   ],
   "source": [
    "fpr, tpr, thresholds = roc_curve(y_val, logreg_model.predict_proba(X_val_num)[:,1])\n",
    "\n",
    "plt.plot(fpr, tpr,lw=2)\n",
    "plt.plot([0,1],[0,1],c='violet',ls='--')\n",
    "plt.xlim([-0.05,1.05])\n",
    "plt.ylim([-0.05,1.05])\n",
    "\n",
    "plt.xlabel('False positive rate')\n",
    "plt.ylabel('True positive rate')\n",
    "plt.title('ROC curve for baseline model');\n",
    "print(\"ROC AUC validation score = \", roc_auc_score(y_val, logreg_model.predict_proba(X_val_num)[:,1]))"
   ]
  },
  {
   "cell_type": "code",
   "execution_count": 9,
   "id": "patient-volume",
   "metadata": {},
   "outputs": [],
   "source": [
    "def make_confusion_matrix(model, threshold=0.5):\n",
    "    # Predict class 1 if probability of being in class 1 is greater than threshold\n",
    "    # (model.predict(X_test) does this automatically with a threshold of 0.5)\n",
    "    y_val_dum_predict = (model.predict_proba(X_val_num)[:, 1] >= threshold)\n",
    "    subscription_confusion = confusion_matrix(y_val, y_pred_val)\n",
    "    plt.figure(dpi=80)\n",
    "    sns.heatmap(subscription_confusion, cmap=plt.cm.Blues, annot=True, square=True, fmt='d',\n",
    "           xticklabels=['no subscribe', 'yes subscribe'],\n",
    "           yticklabels=['no subscribe', 'yes subscribe']);\n",
    "    plt.xlabel('prediction')\n",
    "    plt.ylabel('actual')"
   ]
  },
  {
   "cell_type": "code",
   "execution_count": 10,
   "id": "wireless-dressing",
   "metadata": {
    "scrolled": false
   },
   "outputs": [
    {
     "data": {
      "image/png": "[encoded data removed]",
      "text/plain": [
       "<Figure size 480x320 with 2 Axes>"
      ]
     },
     "metadata": {},
     "output_type": "display_data"
    }
   ],
   "source": [
    "make_confusion_matrix(logreg_model, threshold=0.5)"
   ]
  },
  {
   "cell_type": "markdown",
   "id": "crucial-category",
   "metadata": {},
   "source": [
    "## Step 2: training 6 candidate models"
   ]
  },
  {
   "cell_type": "markdown",
   "id": "professional-circuit",
   "metadata": {},
   "source": [
    "### Candidate Model 1: Logistic Regression (with scaled data)"
   ]
  },
  {
   "cell_type": "code",
   "execution_count": 11,
   "id": "competent-tattoo",
   "metadata": {},
   "outputs": [],
   "source": [
    "X_dum = pd.get_dummies(X)\n",
    "X_test_dum = pd.get_dummies(X_test)\n",
    "\n",
    "#train_test_split\n",
    "X_train_dum, X_val_dum, y_train, y_val = train_test_split(X_dum, y, test_size = 0.2, random_state=101)\n",
    "\n",
    "# setup for the ratio argument of RandomOverSampler initialization\n",
    "n_pos = np.sum(y_train == 1) #counting the positive case\n",
    "n_neg = np.sum(y_train == 0) #counting the negative case\n",
    "ratio = {1 : n_pos * 7, 0 : n_neg} \n",
    "\n",
    "# randomly oversample positive samples: create 7x as many   #RandomOverSampler\n",
    "ROS = imblearn.over_sampling.RandomOverSampler(sampling_strategy = ratio, random_state=42) \n",
    "X_tr_rs, y_tr_rs = ROS.fit_resample(X_train_dum, y_train) #fit_resample"
   ]
  },
  {
   "cell_type": "code",
   "execution_count": 12,
   "id": "thermal-divorce",
   "metadata": {},
   "outputs": [
    {
     "name": "stdout",
     "output_type": "stream",
     "text": [
      "log_loss: 0.5305275968847742\n",
      "train f-beta score: 0.7063390035353956\n",
      "train ROC_AUC score: 0.772071510465866\n",
      "val f-beta score: 0.7933164407170225\n",
      "val ROC_AUC score: 0.7687979871841746\n"
     ]
    }
   ],
   "source": [
    "#scaling data and fit in model\n",
    "std_scale = StandardScaler()\n",
    "\n",
    "X_train_scaled = std_scale.fit_transform(X_tr_rs)\n",
    "X_val_scaled = std_scale.transform(X_val_dum)\n",
    "X_test_scaled = std_scale.transform(X_test_dum)\n",
    "\n",
    "logreg1 = LogisticRegression(C=1)  # C affect our model dramatically\n",
    "logreg1.fit(X_train_scaled, y_tr_rs)\n",
    "\n",
    "y_pred_val = logreg1.predict(X_val_scaled)\n",
    "y_prob_pred_val = logreg1.predict_proba(X_val_scaled)[:,1]\n",
    "\n",
    "print(f\"log_loss: {log_loss(y_val,y_prob_pred_val)}\")\n",
    "\n",
    "print(f\"train f-beta score: {fbeta_score(y_tr_rs,logreg1.predict(X_train_scaled),average='weighted',beta = 2)}\")\n",
    "print(f\"train ROC_AUC score: {roc_auc_score(y_tr_rs, logreg1.predict_proba(X_train_scaled)[:,1])}\")\n",
    "print(f\"val f-beta score: {fbeta_score(y_val,y_pred_val,average='weighted',beta = 2)}\")\n",
    "print(f\"val ROC_AUC score: {roc_auc_score(y_val, y_prob_pred_val)}\")\n"
   ]
  },
  {
   "cell_type": "markdown",
   "id": "vertical-gabriel",
   "metadata": {},
   "source": [
    "### Candidate Model 2 - KNN (Need Scale)"
   ]
  },
  {
   "cell_type": "code",
   "execution_count": 13,
   "id": "metallic-accent",
   "metadata": {},
   "outputs": [
    {
     "name": "stdout",
     "output_type": "stream",
     "text": [
      "train f-beta score: 0.7909147838056466\n",
      "train ROC_AUC score: 0.882551859671168\n",
      "val f-beta score: 0.7632418971985185\n",
      "val ROC_AUC score: 0.7392632755952266\n"
     ]
    }
   ],
   "source": [
    "#using scaled data\n",
    "# Train on training set, and Validate on validating set\n",
    "knn = KNeighborsClassifier(n_neighbors=20)  #Need to assign n\n",
    "knn.fit(X_train_scaled, y_tr_rs)  #fit\n",
    "y_pred_val = knn.predict(X_val_scaled)  #predict\n",
    "y_prob_pred_val = knn.predict_proba(X_val_scaled)[:,1]\n",
    "\n",
    "print(f\"train f-beta score: {fbeta_score(y_tr_rs,knn.predict(X_train_scaled),average='weighted',beta = 2)}\")\n",
    "print(f\"train ROC_AUC score: {roc_auc_score(y_tr_rs, knn.predict_proba(X_train_scaled)[:,1])}\")\n",
    "print(f\"val f-beta score: {fbeta_score(y_val,y_pred_val,average='weighted',beta = 2)}\")\n",
    "print(f\"val ROC_AUC score: {roc_auc_score(y_val, y_prob_pred_val)}\")  "
   ]
  },
  {
   "cell_type": "markdown",
   "id": "finite-administrator",
   "metadata": {},
   "source": [
    "### Candidate Model 3 - Random Forest"
   ]
  },
  {
   "cell_type": "code",
   "execution_count": 14,
   "id": "intense-battle",
   "metadata": {},
   "outputs": [
    {
     "name": "stdout",
     "output_type": "stream",
     "text": [
      "train f-beta score: 0.7553884224270152\n",
      "train ROC_AUC score: 0.7539231668328403\n",
      "val f-beta score: 0.8347102855189789\n",
      "val ROC_AUC score: 0.7923206989417275\n"
     ]
    }
   ],
   "source": [
    "#Random Forest\n",
    "RC = RandomForestClassifier(n_estimators=1000, max_features=6, max_depth = 10)\n",
    "RC.fit(X_tr_rs, y_tr_rs)  \n",
    "y_pred_val= RC.predict(X_val_dum)\n",
    "y_prob_pred_val = RC.predict_proba(X_val_dum)[:,1]\n",
    "print(f\"train f-beta score: {fbeta_score(y_tr_rs,RC.predict(X_tr_rs),average='weighted',beta = 2)}\")\n",
    "print(f\"train ROC_AUC score: {roc_auc_score(y_tr_rs,RC.predict(X_tr_rs))}\")\n",
    "\n",
    "print(f\"val f-beta score: {fbeta_score(y_val,y_pred_val,average='weighted',beta = 2)}\")\n",
    "print(f\"val ROC_AUC score: {roc_auc_score(y_val, y_prob_pred_val)}\")"
   ]
  },
  {
   "cell_type": "markdown",
   "id": "organizational-serum",
   "metadata": {},
   "source": [
    "### Candidate Model 4 - Grandient Boosted trees/XGBoost"
   ]
  },
  {
   "cell_type": "code",
   "execution_count": 15,
   "id": "extra-delivery",
   "metadata": {},
   "outputs": [
    {
     "name": "stdout",
     "output_type": "stream",
     "text": [
      "train f-beta score: 0.7543852724476713\n",
      "train ROC_AUC score: 0.7528029434743717\n",
      "val f-beta score: 0.8329938154614569\n",
      "val ROC_AUC score: 0.79925252472494\n"
     ]
    }
   ],
   "source": [
    "gbm = xgb.XGBClassifier( \n",
    "                        n_estimators=30000,\n",
    "                        max_depth=4,\n",
    "                        objective='binary:logistic', #new objective\n",
    "                        learning_rate=.5, \n",
    "                        subsample=.8,\n",
    "                        min_child_weight=3,\n",
    "                        colsample_bytree=.8\n",
    "                       )\n",
    "\n",
    "eval_set=[(X_tr_rs, y_tr_rs),(X_val_dum,y_val)]\n",
    "fit_model = gbm.fit( \n",
    "                    X_tr_rs, y_tr_rs, \n",
    "                    eval_set=eval_set,\n",
    "                    eval_metric='auc', #new evaluation metric: classification error (could also use AUC, e.g.)\n",
    "                    early_stopping_rounds=50,\n",
    "                    verbose=False\n",
    "                   )\n",
    "\n",
    "y_pred_val = gbm.predict(X_val_dum, ntree_limit=gbm.best_ntree_limit)\n",
    "y_prob_pred_val = gbm.predict_proba(X_val_dum)[:,1]\n",
    "\n",
    "\n",
    "print(f\"train f-beta score: {fbeta_score(y_tr_rs,gbm.predict(X_tr_rs),average='weighted',beta = 2)}\")\n",
    "print(f\"train ROC_AUC score: {roc_auc_score(y_tr_rs,gbm.predict(X_tr_rs))}\")\n",
    "\n",
    "print(f\"val f-beta score: {fbeta_score(y_val,y_pred_val,average='weighted',beta = 2)}\")\n",
    "print(f\"val ROC_AUC score: {roc_auc_score(y_val, y_prob_pred_val)}\")"
   ]
  },
  {
   "cell_type": "markdown",
   "id": "offshore-morris",
   "metadata": {},
   "source": [
    "### Candidate Model 5 - Naive Bayes"
   ]
  },
  {
   "cell_type": "code",
   "execution_count": 16,
   "id": "found-financing",
   "metadata": {},
   "outputs": [
    {
     "name": "stdout",
     "output_type": "stream",
     "text": [
      "train f-beta score: 0.6896389577740438\n",
      "train ROC_AUC score: 0.6888896383055031\n",
      "val f-beta score: 0.8016707936122375\n",
      "val ROC_AUC score: 0.7487083148921431\n"
     ]
    }
   ],
   "source": [
    "clf = GaussianNB()\n",
    "clf.fit(X_tr_rs, y_tr_rs)\n",
    "y_pred_val = clf.predict(X_val_dum)\n",
    "y_prob_pred_val = clf.predict_proba(X_val_dum)[:,1]\n",
    "\n",
    "# print(gnb.theta_) \n",
    "\n",
    "print(f\"train f-beta score: {fbeta_score(y_tr_rs,clf.predict(X_tr_rs),average='weighted',beta = 2)}\")\n",
    "print(f\"train ROC_AUC score: {roc_auc_score(y_tr_rs,clf.predict(X_tr_rs))}\")\n",
    "\n",
    "print(f\"val f-beta score: {fbeta_score(y_val,y_pred_val,average='weighted',beta = 2)}\")\n",
    "print(f\"val ROC_AUC score: {roc_auc_score(y_val, y_prob_pred_val)}\")"
   ]
  },
  {
   "cell_type": "markdown",
   "id": "occupied-desire",
   "metadata": {},
   "source": [
    "### Candidate Model 6 - SVM(Need Scale)"
   ]
  },
  {
   "cell_type": "code",
   "execution_count": 17,
   "id": "advised-password",
   "metadata": {
    "scrolled": true
   },
   "outputs": [
    {
     "name": "stdout",
     "output_type": "stream",
     "text": [
      "train f-beta score: 0.7900124101780865\n",
      "val f-beta score: 0.8388320101723521\n"
     ]
    }
   ],
   "source": [
    "svc=SVC()\n",
    "svc.fit(X_train_scaled, y_tr_rs)\n",
    "y_pred_val = svc.predict(X_val_scaled)\n",
    "\n",
    "print(f\"train f-beta score: {fbeta_score(y_tr_rs,svc.predict(X_train_scaled),average='weighted',beta = 2)}\") \n",
    "print(f\"val f-beta score: {fbeta_score(y_val,y_pred_val,average='weighted',beta = 2)}\") "
   ]
  },
  {
   "cell_type": "code",
   "execution_count": 18,
   "id": "european-butler",
   "metadata": {},
   "outputs": [
    {
     "name": "stdout",
     "output_type": "stream",
     "text": [
      "train f-beta score: 0.7320037612668637\n",
      "val f-beta score: 0.8533191421244004\n"
     ]
    }
   ],
   "source": [
    "svc=SVC(C = 30, gamma= 0.001)\n",
    "svc.fit(X_train_scaled, y_tr_rs)\n",
    "y_pred_val = svc.predict(X_val_scaled)\n",
    "\n",
    "print(f\"train f-beta score: {fbeta_score(y_tr_rs,svc.predict(X_train_scaled),average='weighted',beta = 2)}\") \n",
    "print(f\"val f-beta score: {fbeta_score(y_val,y_pred_val,average='weighted',beta = 2)}\") "
   ]
  },
  {
   "cell_type": "markdown",
   "id": "pediatric-granny",
   "metadata": {},
   "source": [
    "## Step 3: Model Selection - Using ROC(soft predictions) & F-beta(hard predictions)\n",
    "Note: XGBoost performs the best"
   ]
  },
  {
   "cell_type": "code",
   "execution_count": 19,
   "id": "urban-device",
   "metadata": {},
   "outputs": [
    {
     "data": {
      "image/png": "[encoded data removed]",
      "text/plain": [
       "<Figure size 432x288 with 1 Axes>"
      ]
     },
     "metadata": {},
     "output_type": "display_data"
    }
   ],
   "source": [
    "#use ROC curve compare different model. \n",
    "from sklearn.metrics import roc_curve\n",
    "\n",
    "fpr, tpr, _ = roc_curve(y_val, logreg1.predict_proba(X_val_dum)[:,1])\n",
    "plt.plot(fpr, tpr)\n",
    "\n",
    "fpr, tpr, _ = roc_curve(y_val, knn.predict_proba(X_val_scaled)[:,1])\n",
    "plt.plot(fpr, tpr)\n",
    "\n",
    "fpr, tpr, _ = roc_curve(y_val, RC.predict_proba(X_val_dum)[:,1])\n",
    "plt.plot(fpr, tpr)\n",
    "\n",
    "fpr, tpr, _ = roc_curve(y_val, gbm.predict_proba(X_val_dum)[:,1])\n",
    "plt.plot(fpr, tpr)\n",
    "\n",
    "fpr, tpr, _ = roc_curve(y_val, clf.predict_proba(X_val_dum)[:,1])\n",
    "plt.plot(fpr, tpr)\n",
    "\n",
    "#fpr, tpr, _ = roc_curve(y_val_dum, svc.predict_proba(X_val_scaled)[:,1])\n",
    "#plt.plot(fpr, tpr)\n",
    "\n",
    "x = np.linspace(0,1, 100000)\n",
    "plt.plot(x, x, linestyle='--')\n",
    "\n",
    "plt.title('ROC AUC Comparison')\n",
    "plt.xlabel('False Positive Rate')\n",
    "plt.ylabel('True Positive Rate')\n",
    "plt.legend(['Logistic Regression','20-NN','Random Forest','XGBoost','Naive Bayes'])\n",
    "plt.savefig(\"ROC AUC Comparison.png\");"
   ]
  },
  {
   "cell_type": "markdown",
   "id": "amazing-denial",
   "metadata": {},
   "source": [
    "## Step 4: tunning hyperparameter for XGBoost, then training final model"
   ]
  },
  {
   "cell_type": "markdown",
   "id": "continuing-museum",
   "metadata": {},
   "source": [
    "### Tunning hyperparameter"
   ]
  },
  {
   "cell_type": "code",
   "execution_count": 20,
   "id": "comprehensive-mobility",
   "metadata": {},
   "outputs": [
    {
     "name": "stdout",
     "output_type": "stream",
     "text": [
      "train f-beta score: 0.7543852724476713\n",
      "train ROC_AUC score: 0.8054520382097845\n",
      "val f-beta score: 0.8536168453517327\n",
      "val ROC_AUC score: 0.7983353332288714\n"
     ]
    }
   ],
   "source": [
    "#baseline xgboost model:\n",
    "  ## val f-beta score: 0.8329938154614569\n",
    "  ## val ROC_AUC score: 0.79925252472494\n",
    "\n",
    "# better hyperparameter \n",
    "gbm1 = xgb.XGBClassifier( \n",
    "                        n_estimators=10000,\n",
    "                        max_depth=11,\n",
    "                        objective='binary:logistic', #new objective\n",
    "                        learning_rate=0.05, \n",
    "                        subsample=.8,\n",
    "                        min_child_weight=2,\n",
    "                        colsample_bytree=.8\n",
    "                       )\n",
    "\n",
    "eval_set=[(X_tr_rs, y_tr_rs),(X_val_dum,y_val)]\n",
    "fit_model = gbm1.fit( \n",
    "                    X_tr_rs, y_tr_rs, \n",
    "                    eval_set=eval_set,\n",
    "                    eval_metric='auc', #new evaluation metric: classification error (could also use AUC, e.g.)\n",
    "                                    #can \"eval_metric\" be F-beta score\n",
    "                    early_stopping_rounds=20,\n",
    "                    verbose=False\n",
    "                   )\n",
    "\n",
    "y_pred_val = gbm1.predict(X_val_dum, ntree_limit=gbm1.best_ntree_limit)\n",
    "y_prob_pred_val = gbm1.predict_proba(X_val_dum)[:,1]\n",
    "\n",
    "\n",
    "print(f\"train f-beta score: {fbeta_score(y_tr_rs,gbm.predict(X_tr_rs),average='weighted',beta = 2)}\")\n",
    "print(f\"train ROC_AUC score: {roc_auc_score(y_tr_rs,gbm1.predict(X_tr_rs))}\")\n",
    "\n",
    "print(f\"val f-beta score: {fbeta_score(y_val,y_pred_val,average='weighted',beta = 2)}\")\n",
    "print(f\"val ROC_AUC score: {roc_auc_score(y_val, y_prob_pred_val)}\")"
   ]
  },
  {
   "cell_type": "markdown",
   "id": "general-albany",
   "metadata": {},
   "source": [
    "### Final model - retrain XGBoost with (train+val) data, resampling, then get score on test set"
   ]
  },
  {
   "cell_type": "code",
   "execution_count": 21,
   "id": "pretty-catalyst",
   "metadata": {},
   "outputs": [],
   "source": [
    "X_dum = pd.get_dummies(X)\n",
    "X_test_dum = pd.get_dummies(X_test)\n",
    "\n",
    "# oversampling\n",
    "ROS = imblearn.over_sampling.RandomOverSampler(sampling_strategy='minority', random_state=42) \n",
    "X_tr_rs, y_tr_rs = ROS.fit_resample(X_dum, y) #fit_resample"
   ]
  },
  {
   "cell_type": "code",
   "execution_count": 22,
   "id": "skilled-tract",
   "metadata": {},
   "outputs": [
    {
     "name": "stdout",
     "output_type": "stream",
     "text": [
      "train f-beta score: 0.9967927081981969\n",
      "train ROC_AUC score: 0.7477706527729072\n",
      "test f-beta score: 0.9946969122222279\n",
      "test ROC_AUC score: 0.9998795585412668\n"
     ]
    }
   ],
   "source": [
    "gbm2 = xgb.XGBClassifier( \n",
    "                        n_estimators=10000,\n",
    "                        max_depth=11,\n",
    "                        objective='binary:logistic', #new objective\n",
    "                        learning_rate=0.05, \n",
    "                        subsample=.8, \n",
    "                        min_child_weight=2,\n",
    "                        colsample_bytree=.8\n",
    "                       )\n",
    "\n",
    "eval_set=[(X_tr_rs, y_tr_rs),(X_test_dum,y_test)]  #using test set\n",
    "fit_model = gbm2.fit( \n",
    "                    X_tr_rs, y_tr_rs, \n",
    "                    eval_set=eval_set,\n",
    "                    eval_metric='auc', #new evaluation metric: classification error (could also use AUC, e.g.)\n",
    "                                    #can \"eval_metric\" be F-beta score\n",
    "                    early_stopping_rounds=20,\n",
    "                    verbose=False\n",
    "                   )\n",
    "\n",
    "y_pred_test = gbm2.predict(X_test_dum, ntree_limit=gbm2.best_ntree_limit)\n",
    "y_prob_pred_test = gbm2.predict_proba(X_test_dum)[:,1]\n",
    "\n",
    "\n",
    "print(f\"train f-beta score: {fbeta_score(y_tr_rs,gbm2.predict(X_tr_rs),average='weighted',beta = 2)}\")\n",
    "print(f\"train ROC_AUC score: {roc_auc_score(y_tr_rs,gbm.predict(X_tr_rs))}\")\n",
    "\n",
    "print(f\"test f-beta score: {fbeta_score(y_test,y_pred_test,average='weighted',beta = 2)}\")\n",
    "print(f\"test ROC_AUC score: {roc_auc_score(y_test, y_prob_pred_test)}\")"
   ]
  },
  {
   "cell_type": "markdown",
   "id": "dependent-morgan",
   "metadata": {},
   "source": [
    "## Step 5: Model Interperatation"
   ]
  },
  {
   "cell_type": "code",
   "execution_count": 23,
   "id": "advance-artist",
   "metadata": {},
   "outputs": [
    {
     "data": {
      "image/png": "[encoded data removed]",
      "text/plain": [
       "<Figure size 480x320 with 2 Axes>"
      ]
     },
     "metadata": {},
     "output_type": "display_data"
    }
   ],
   "source": [
    "subscription_confusion = confusion_matrix(y_test, y_pred_test)\n",
    "plt.figure(dpi=80)\n",
    "sns.heatmap(subscription_confusion, cmap=plt.cm.Blues, annot=True, square=True, fmt='d',\n",
    "           xticklabels=['no subscribe', 'yes subscribe'],\n",
    "           yticklabels=['no subscribe', 'yes subscribe']);\n",
    "plt.xlabel('prediction')\n",
    "plt.ylabel('actual');"
   ]
  },
  {
   "cell_type": "code",
   "execution_count": 24,
   "id": "surrounded-coverage",
   "metadata": {},
   "outputs": [
    {
     "name": "stdout",
     "output_type": "stream",
     "text": [
      "ROC AUC validation score =  0.9998795585412668\n"
     ]
    },
    {
     "data": {
      "image/png": "[encoded data removed]",
      "text/plain": [
       "<Figure size 432x288 with 1 Axes>"
      ]
     },
     "metadata": {},
     "output_type": "display_data"
    }
   ],
   "source": [
    "fpr, tpr, thresholds = roc_curve(y_test, gbm2.predict_proba(X_test_dum)[:,1])\n",
    "\n",
    "plt.plot(fpr, tpr,lw=2)\n",
    "plt.plot([0,1],[0,1],c='violet',ls='--')\n",
    "plt.xlim([-0.05,1.05])\n",
    "plt.ylim([-0.05,1.05])\n",
    "\n",
    "plt.xlabel('False positive rate')\n",
    "plt.ylabel('True positive rate')\n",
    "plt.title('ROC curve for final model');\n",
    "print(\"ROC AUC validation score = \", roc_auc_score(y_test, gbm2.predict_proba(X_test_dum)[:,1]))"
   ]
  },
  {
   "cell_type": "code",
   "execution_count": null,
   "id": "outstanding-corner",
   "metadata": {},
   "outputs": [],
   "source": [
    "feat_imps = list(zip(X.columns,rf.feature_importances_))\n",
    "feat_imps = sorted(feat_imps, key = lambda x: x[1], reverse=False)\n",
    "feat_imps = pd.DataFrame(feat_imps, columns=['feature','importance'])\n",
    "\n",
    "feat_imps.plot(x='feature',y='importance',kind='barh')"
   ]
  }
 ],
 "metadata": {
  "kernelspec": {
   "display_name": "Python [conda env:metis] *",
   "language": "python",
   "name": "conda-env-metis-py"
  },
  "language_info": {
   "codemirror_mode": {
    "name": "ipython",
    "version": 3
   },
   "file_extension": ".py",
   "mimetype": "text/x-python",
   "name": "python",
   "nbconvert_exporter": "python",
   "pygments_lexer": "ipython3",
   "version": "3.8.8"
  }
 },
 "nbformat": 4,
 "nbformat_minor": 5
}
